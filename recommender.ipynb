{
 "cells": [
  {
   "cell_type": "code",
   "execution_count": 1,
   "metadata": {},
   "outputs": [],
   "source": [
    "import numpy as np\n",
    "import pandas as pd\n",
    "import matplotlib.pyplot as plt\n",
    "import seaborn as sns\n",
    "import pickle\n",
    "import time\n",
    "import ipywidgets as widgets\n",
    "%gui asyncio\n",
    "import asyncio"
   ]
  },
  {
   "cell_type": "code",
   "execution_count": 2,
   "metadata": {},
   "outputs": [
    {
     "data": {
      "text/html": [
       "<div>\n",
       "<style scoped>\n",
       "    .dataframe tbody tr th:only-of-type {\n",
       "        vertical-align: middle;\n",
       "    }\n",
       "\n",
       "    .dataframe tbody tr th {\n",
       "        vertical-align: top;\n",
       "    }\n",
       "\n",
       "    .dataframe thead th {\n",
       "        text-align: right;\n",
       "    }\n",
       "</style>\n",
       "<table border=\"1\" class=\"dataframe\">\n",
       "  <thead>\n",
       "    <tr style=\"text-align: right;\">\n",
       "      <th></th>\n",
       "      <th>movieId</th>\n",
       "      <th>title</th>\n",
       "      <th>genres</th>\n",
       "    </tr>\n",
       "  </thead>\n",
       "  <tbody>\n",
       "    <tr>\n",
       "      <th>0</th>\n",
       "      <td>1</td>\n",
       "      <td>Toy Story (1995)</td>\n",
       "      <td>Adventure|Animation|Children|Comedy|Fantasy</td>\n",
       "    </tr>\n",
       "    <tr>\n",
       "      <th>1</th>\n",
       "      <td>2</td>\n",
       "      <td>Jumanji (1995)</td>\n",
       "      <td>Adventure|Children|Fantasy</td>\n",
       "    </tr>\n",
       "    <tr>\n",
       "      <th>2</th>\n",
       "      <td>3</td>\n",
       "      <td>Grumpier Old Men (1995)</td>\n",
       "      <td>Comedy|Romance</td>\n",
       "    </tr>\n",
       "    <tr>\n",
       "      <th>3</th>\n",
       "      <td>4</td>\n",
       "      <td>Waiting to Exhale (1995)</td>\n",
       "      <td>Comedy|Drama|Romance</td>\n",
       "    </tr>\n",
       "    <tr>\n",
       "      <th>4</th>\n",
       "      <td>5</td>\n",
       "      <td>Father of the Bride Part II (1995)</td>\n",
       "      <td>Comedy</td>\n",
       "    </tr>\n",
       "  </tbody>\n",
       "</table>\n",
       "</div>"
      ],
      "text/plain": [
       "   movieId                               title  \\\n",
       "0        1                    Toy Story (1995)   \n",
       "1        2                      Jumanji (1995)   \n",
       "2        3             Grumpier Old Men (1995)   \n",
       "3        4            Waiting to Exhale (1995)   \n",
       "4        5  Father of the Bride Part II (1995)   \n",
       "\n",
       "                                        genres  \n",
       "0  Adventure|Animation|Children|Comedy|Fantasy  \n",
       "1                   Adventure|Children|Fantasy  \n",
       "2                               Comedy|Romance  \n",
       "3                         Comedy|Drama|Romance  \n",
       "4                                       Comedy  "
      ]
     },
     "execution_count": 2,
     "metadata": {},
     "output_type": "execute_result"
    }
   ],
   "source": [
    "url=\"https://raw.githubusercontent.com/alooperalta/movieRecommendation/master/content/ml-latest-small/movies.csv\"\n",
    "movies=pd.read_csv(url)\n",
    "movies.head()"
   ]
  },
  {
   "cell_type": "code",
   "execution_count": 3,
   "metadata": {},
   "outputs": [
    {
     "data": {
      "text/html": [
       "<div>\n",
       "<style scoped>\n",
       "    .dataframe tbody tr th:only-of-type {\n",
       "        vertical-align: middle;\n",
       "    }\n",
       "\n",
       "    .dataframe tbody tr th {\n",
       "        vertical-align: top;\n",
       "    }\n",
       "\n",
       "    .dataframe thead th {\n",
       "        text-align: right;\n",
       "    }\n",
       "</style>\n",
       "<table border=\"1\" class=\"dataframe\">\n",
       "  <thead>\n",
       "    <tr style=\"text-align: right;\">\n",
       "      <th></th>\n",
       "      <th>movieId</th>\n",
       "      <th>Action</th>\n",
       "      <th>Adventure</th>\n",
       "      <th>Animation</th>\n",
       "      <th>Children</th>\n",
       "      <th>Comedy</th>\n",
       "      <th>Crime</th>\n",
       "      <th>Documentary</th>\n",
       "      <th>Drama</th>\n",
       "      <th>Fantasy</th>\n",
       "      <th>Film-Noir</th>\n",
       "      <th>Horror</th>\n",
       "      <th>IMAX</th>\n",
       "      <th>Musical</th>\n",
       "      <th>Mystery</th>\n",
       "      <th>Romance</th>\n",
       "      <th>Sci-Fi</th>\n",
       "      <th>Thriller</th>\n",
       "      <th>War</th>\n",
       "      <th>Western</th>\n",
       "    </tr>\n",
       "  </thead>\n",
       "  <tbody>\n",
       "    <tr>\n",
       "      <th>0</th>\n",
       "      <td>1</td>\n",
       "      <td>0</td>\n",
       "      <td>1</td>\n",
       "      <td>1</td>\n",
       "      <td>1</td>\n",
       "      <td>1</td>\n",
       "      <td>0</td>\n",
       "      <td>0</td>\n",
       "      <td>0</td>\n",
       "      <td>1</td>\n",
       "      <td>0</td>\n",
       "      <td>0</td>\n",
       "      <td>0</td>\n",
       "      <td>0</td>\n",
       "      <td>0</td>\n",
       "      <td>0</td>\n",
       "      <td>0</td>\n",
       "      <td>0</td>\n",
       "      <td>0</td>\n",
       "      <td>0</td>\n",
       "    </tr>\n",
       "    <tr>\n",
       "      <th>1</th>\n",
       "      <td>2</td>\n",
       "      <td>0</td>\n",
       "      <td>1</td>\n",
       "      <td>0</td>\n",
       "      <td>1</td>\n",
       "      <td>0</td>\n",
       "      <td>0</td>\n",
       "      <td>0</td>\n",
       "      <td>0</td>\n",
       "      <td>1</td>\n",
       "      <td>0</td>\n",
       "      <td>0</td>\n",
       "      <td>0</td>\n",
       "      <td>0</td>\n",
       "      <td>0</td>\n",
       "      <td>0</td>\n",
       "      <td>0</td>\n",
       "      <td>0</td>\n",
       "      <td>0</td>\n",
       "      <td>0</td>\n",
       "    </tr>\n",
       "    <tr>\n",
       "      <th>2</th>\n",
       "      <td>3</td>\n",
       "      <td>0</td>\n",
       "      <td>0</td>\n",
       "      <td>0</td>\n",
       "      <td>0</td>\n",
       "      <td>1</td>\n",
       "      <td>0</td>\n",
       "      <td>0</td>\n",
       "      <td>0</td>\n",
       "      <td>0</td>\n",
       "      <td>0</td>\n",
       "      <td>0</td>\n",
       "      <td>0</td>\n",
       "      <td>0</td>\n",
       "      <td>0</td>\n",
       "      <td>1</td>\n",
       "      <td>0</td>\n",
       "      <td>0</td>\n",
       "      <td>0</td>\n",
       "      <td>0</td>\n",
       "    </tr>\n",
       "    <tr>\n",
       "      <th>3</th>\n",
       "      <td>4</td>\n",
       "      <td>0</td>\n",
       "      <td>0</td>\n",
       "      <td>0</td>\n",
       "      <td>0</td>\n",
       "      <td>1</td>\n",
       "      <td>0</td>\n",
       "      <td>0</td>\n",
       "      <td>1</td>\n",
       "      <td>0</td>\n",
       "      <td>0</td>\n",
       "      <td>0</td>\n",
       "      <td>0</td>\n",
       "      <td>0</td>\n",
       "      <td>0</td>\n",
       "      <td>1</td>\n",
       "      <td>0</td>\n",
       "      <td>0</td>\n",
       "      <td>0</td>\n",
       "      <td>0</td>\n",
       "    </tr>\n",
       "    <tr>\n",
       "      <th>4</th>\n",
       "      <td>5</td>\n",
       "      <td>0</td>\n",
       "      <td>0</td>\n",
       "      <td>0</td>\n",
       "      <td>0</td>\n",
       "      <td>1</td>\n",
       "      <td>0</td>\n",
       "      <td>0</td>\n",
       "      <td>0</td>\n",
       "      <td>0</td>\n",
       "      <td>0</td>\n",
       "      <td>0</td>\n",
       "      <td>0</td>\n",
       "      <td>0</td>\n",
       "      <td>0</td>\n",
       "      <td>0</td>\n",
       "      <td>0</td>\n",
       "      <td>0</td>\n",
       "      <td>0</td>\n",
       "      <td>0</td>\n",
       "    </tr>\n",
       "  </tbody>\n",
       "</table>\n",
       "</div>"
      ],
      "text/plain": [
       "   movieId  Action  Adventure  Animation  Children  Comedy  Crime  \\\n",
       "0        1       0          1          1         1       1      0   \n",
       "1        2       0          1          0         1       0      0   \n",
       "2        3       0          0          0         0       1      0   \n",
       "3        4       0          0          0         0       1      0   \n",
       "4        5       0          0          0         0       1      0   \n",
       "\n",
       "   Documentary  Drama  Fantasy  Film-Noir  Horror  IMAX  Musical  Mystery  \\\n",
       "0            0      0        1          0       0     0        0        0   \n",
       "1            0      0        1          0       0     0        0        0   \n",
       "2            0      0        0          0       0     0        0        0   \n",
       "3            0      1        0          0       0     0        0        0   \n",
       "4            0      0        0          0       0     0        0        0   \n",
       "\n",
       "   Romance  Sci-Fi  Thriller  War  Western  \n",
       "0        0       0         0    0        0  \n",
       "1        0       0         0    0        0  \n",
       "2        1       0         0    0        0  \n",
       "3        1       0         0    0        0  \n",
       "4        0       0         0    0        0  "
      ]
     },
     "execution_count": 3,
     "metadata": {},
     "output_type": "execute_result"
    }
   ],
   "source": [
    "movie_title=movies['title']\n",
    "Genres = movies['genres'].str.get_dummies(sep='|')\n",
    "movies = pd.concat([movies, Genres], axis=1)\n",
    "movies.drop(['title','genres','(no genres listed)'],axis=1,inplace=True)\n",
    "movies.head()"
   ]
  },
  {
   "cell_type": "markdown",
   "metadata": {},
   "source": [
    "# Model Creation"
   ]
  },
  {
   "cell_type": "code",
   "execution_count": 4,
   "metadata": {},
   "outputs": [],
   "source": [
    "from sklearn.cluster import KMeans\n",
    "from sklearn.linear_model import LogisticRegression\n",
    "import random"
   ]
  },
  {
   "cell_type": "code",
   "execution_count": 5,
   "metadata": {},
   "outputs": [],
   "source": [
    "X=movies\n",
    "n_clusters=170\n",
    "recommender=KMeans(n_clusters=n_clusters,random_state=1)\n",
    "labels=recommender.fit_predict(X)"
   ]
  },
  {
   "cell_type": "code",
   "execution_count": 6,
   "metadata": {},
   "outputs": [],
   "source": [
    "rndi=dict()\n",
    "for i in range(n_clusters):\n",
    "    rndi[i]=[]\n",
    "for i in range(len(labels)):\n",
    "    rndi[labels[i]].append(movie_title[i])"
   ]
  },
  {
   "cell_type": "code",
   "execution_count": 7,
   "metadata": {},
   "outputs": [
    {
     "data": {
      "text/plain": [
       "1"
      ]
     },
     "execution_count": 7,
     "metadata": {},
     "output_type": "execute_result"
    }
   ],
   "source": [
    "cnt=0\n",
    "for x in rndi.values():\n",
    "    if len(x)<6:\n",
    "        cnt+=1\n",
    "cnt"
   ]
  },
  {
   "cell_type": "code",
   "execution_count": 8,
   "metadata": {},
   "outputs": [
    {
     "name": "stdout",
     "output_type": "stream",
     "text": [
      "Immortal Beloved (1994)\n",
      "Boys of St. Vincent, The (1992)\n",
      "Nobody's Fool (1994)\n",
      "Nine Months (1995)\n",
      "Outbreak (1995)\n"
     ]
    }
   ],
   "source": [
    "from IPython.display import clear_output\n",
    "x=input()\n",
    "clear_output(wait=True)\n",
    "ind=movie_title[movie_title==x].index[0]\n",
    "choice=random.sample(rndi[labels[ind]],5)\n",
    "for i in choice:\n",
    "    print(i)"
   ]
  },
  {
   "cell_type": "code",
   "execution_count": 27,
   "metadata": {},
   "outputs": [],
   "source": [
    "def getRecom(x):\n",
    "    ind=movie_title[movie_title==x].index[0]\n",
    "    choice=random.sample(rndi[labels[ind]],5)\n",
    "    print('\\nFinding Recommendations Similar to', x,'...')\n",
    "    time.sleep(2)\n",
    "    print('\\nTop Matches for',x, 'are:\\n' )\n",
    "    for i in choice:\n",
    "        if (i==x):\n",
    "            print(random.sample(rndi[labels[ind]],1)[0]) \n",
    "        else:\n",
    "            print(i)\n",
    "    print(\"\")\n",
    "\n",
    "def model():        \n",
    "        o = movie_title\n",
    "        opt = pd.concat([pd.Series(['Select an Option']),o])\n",
    "        dropdown = widgets.Dropdown(\n",
    "            options= opt,\n",
    "            description='Chose your favourite Movie:',\n",
    "            disabled=False,\n",
    "        )\n",
    "        btn = widgets.Button(description='Find recommended movies')\n",
    "        display(dropdown)\n",
    "        display(btn)\n",
    "        def btn_eventhandler(obj):\n",
    "            if(dropdown.value!='Select an Option'):\n",
    "                getRecom(dropdown.value)\n",
    "        btn.on_click(btn_eventhandler)"
   ]
  },
  {
   "cell_type": "code",
   "execution_count": 24,
   "metadata": {},
   "outputs": [
    {
     "data": {
      "application/vnd.jupyter.widget-view+json": {
       "model_id": "fd75655356d048229a23a6e66b0ad49f",
       "version_major": 2,
       "version_minor": 0
      },
      "text/plain": [
       "Dropdown(description='Chose your favourite Movie:', options=('Select an Option', 'Toy Story (1995)', 'Jumanji …"
      ]
     },
     "metadata": {},
     "output_type": "display_data"
    },
    {
     "data": {
      "application/vnd.jupyter.widget-view+json": {
       "model_id": "65b07fa15d5b42c69c103089dc6739a4",
       "version_major": 2,
       "version_minor": 0
      },
      "text/plain": [
       "Button(description='Find recommended movies', style=ButtonStyle())"
      ]
     },
     "metadata": {},
     "output_type": "display_data"
    },
    {
     "name": "stdout",
     "output_type": "stream",
     "text": [
      "Finding Recommendations Similar to Gintama: The Final Chapter - Be Forever Yorozuya (2013) ...\n",
      "\n",
      "Top Matches for Gintama: The Final Chapter - Be Forever Yorozuya (2013) are:\n",
      "\n",
      "My Scientology Movie (2016)\n",
      "Karate Bullfighter (1975)\n",
      "Buck Rogers in the 25th Century (1979)\n",
      "Alice Through the Looking Glass (2016)\n",
      "Kicking Off (2016)\n",
      "\n",
      "Finding Recommendations Similar to Kicking Off (2016) ...\n",
      "\n",
      "Top Matches for Kicking Off (2016) are:\n",
      "\n",
      "The Crew (2016)\n",
      "Captain Fantastic (2016)\n",
      "The Handmaiden (2016)\n",
      "['The Crew (2016)']\n",
      "The Shallows (2016)\n",
      "\n",
      "\n",
      "Finding Recommendations Similar to Kicking Off (2016) ...\n",
      "\n",
      "\n",
      "Top Matches for Kicking Off (2016) are:\n",
      "\n",
      "The BFG (2016)\n",
      "SORI: Voice from the Heart (2016)\n",
      "The Crew (2016)\n",
      "Toni Erdmann (2016)\n",
      "Gintama: The Final Chapter - Be Forever Yorozuya (2013)\n",
      "\n",
      "\n",
      "Finding Recommendations Similar to Kicking Off (2016) ...\n",
      "\n",
      "\n",
      "Top Matches for Kicking Off (2016) are:\n",
      "\n",
      "Kill Command (2016)\n",
      "World of Glory (1991)\n",
      "The Nice Guys (2016)\n",
      "Gen-X Cops (1999)\n",
      "My Scientology Movie (2016)\n",
      "\n",
      "\n",
      "Finding Recommendations Similar to Hush (2016) ...\n",
      "\n",
      "Top Matches for Hush (2016) are:\n",
      "\n",
      "Everybody Wants Some (2016)\n",
      "Project X (1968)\n",
      "Zoom (2015)\n",
      "Jimmy Carr: Making People Laugh (2010)\n",
      "Paterson\n",
      "\n"
     ]
    }
   ],
   "source": [
    "model()"
   ]
  },
  {
   "cell_type": "code",
   "execution_count": 29,
   "metadata": {},
   "outputs": [],
   "source": [
    "import pickle\n",
    "filename = 'recommender.pkl'\n",
    "pickle_out = open(filename, 'wb')\n",
    "pickle.dump(recommender, pickle_out)\n",
    "pickle_out.close()"
   ]
  },
  {
   "cell_type": "code",
   "execution_count": 32,
   "metadata": {},
   "outputs": [
    {
     "data": {
      "text/plain": [
       "KMeans(n_clusters=170, random_state=1)"
      ]
     },
     "execution_count": 32,
     "metadata": {},
     "output_type": "execute_result"
    }
   ],
   "source": [
    "import pickle\n",
    "filename = 'recommender.pkl'\n",
    "pickle_in = open(filename, 'rb')\n",
    "loaded_model = pickle.load(pickle_in)\n",
    "loaded_model"
   ]
  }
 ],
 "metadata": {
  "kernelspec": {
   "display_name": "Python 3",
   "language": "python",
   "name": "python3"
  },
  "language_info": {
   "codemirror_mode": {
    "name": "ipython",
    "version": 3
   },
   "file_extension": ".py",
   "mimetype": "text/x-python",
   "name": "python",
   "nbconvert_exporter": "python",
   "pygments_lexer": "ipython3",
   "version": "3.8.8"
  }
 },
 "nbformat": 4,
 "nbformat_minor": 2
}
